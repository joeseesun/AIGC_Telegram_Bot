{
 "cells": [
  {
   "cell_type": "markdown",
   "id": "59749f2a-888b-477a-9d36-57e3865a7dab",
   "metadata": {},
   "source": [
    "# Telegram Bot Message From Interested Twitter Users"
   ]
  },
  {
   "cell_type": "markdown",
   "id": "06550f52-03bc-4975-b84a-481c543444b4",
   "metadata": {},
   "source": [
    "## Setup Environment"
   ]
  },
  {
   "cell_type": "code",
   "execution_count": 1,
   "id": "a9bc0df0-1f64-44a2-93cb-9aae71887cb5",
   "metadata": {
    "tags": []
   },
   "outputs": [],
   "source": [
    "import time\n",
    "import feedparser\n",
    "import requests\n",
    "from telegram import Bot\n",
    "from datetime import datetime,timedelta\n",
    "from bs4 import BeautifulSoup\n",
    "from translate import Translator\n",
    "from dotenv import load_dotenv\n",
    "import os\n",
    "import asyncio\n",
    "import aiohttp\n",
    "from typing import List, Dict\n",
    "from dateutil import tz, parser"
   ]
  },
  {
   "cell_type": "markdown",
   "id": "95c270ff-eaa4-486c-88a7-8798e7d70876",
   "metadata": {},
   "source": [
    "### Environment Variable"
   ]
  },
  {
   "cell_type": "code",
   "execution_count": 2,
   "id": "e43f969f-7408-4fd8-a1a1-fe67dae62074",
   "metadata": {
    "tags": []
   },
   "outputs": [],
   "source": [
    "load_dotenv()  # Load environment variables from .env file\n",
    "\n",
    "TOKEN = os.getenv(\"TOKEN\")\n",
    "target_chat_id = os.getenv(\"target_chat_id\")\n",
    "TELEGRAM_API_BASE_URL=os.getenv(\"TELEGRAM_API_BASE_URL\", \"https://api.telegram.org/bot\")\n",
    "RSS_BASE_URL=os.getenv(\"RSS_BASE_URL\", \"http://rsshub.app\")"
   ]
  },
  {
   "cell_type": "markdown",
   "id": "3090c386-2560-4d77-81a4-797b45794b3a",
   "metadata": {},
   "source": [
    "### Paths, Constants, Globals"
   ]
  },
  {
   "cell_type": "code",
   "execution_count": 3,
   "id": "9ae74887-8c56-4e55-b663-88ce4a1d92b7",
   "metadata": {
    "tags": []
   },
   "outputs": [],
   "source": [
    "# at least specify the username, name optional\n",
    "TWITTER_USER_LIST_FILE=\"twitter_list.txt\"\n",
    "\n",
    "# here to save the cutoff time\n",
    "CUTOFF_TIME_FILE=\"cutoff_time.txt\"\n",
    "\n",
    "# here to save the log file\n",
    "LOG_FILE=\"log_file.txt\"\n"
   ]
  },
  {
   "cell_type": "markdown",
   "id": "bce4f1e8-6f8b-4a88-9250-2fead553178b",
   "metadata": {},
   "source": [
    "- Globals"
   ]
  },
  {
   "cell_type": "code",
   "execution_count": 4,
   "id": "e1f9a7dd-c09e-43c6-b938-7c3c40ff583f",
   "metadata": {
    "tags": []
   },
   "outputs": [],
   "source": [
    "# the newest time from fetched twitter entries\n",
    "# use this to filter newer ones or fetch newer ones \n",
    "newest_time_str = \"\"\n",
    "\n",
    "# one hour?\n",
    "wait_interval = 3600  # in seconds\n",
    "\n",
    "# we are runing async\n",
    "loop = asyncio.get_event_loop()\n"
   ]
  },
  {
   "cell_type": "markdown",
   "id": "c4b4d440-ba16-4c06-b467-34dafde5cd2c",
   "metadata": {},
   "source": [
    "## Read Input"
   ]
  },
  {
   "cell_type": "markdown",
   "id": "5bcb55d8-c69f-4371-ab8b-ec7d7c9cd79d",
   "metadata": {},
   "source": [
    "### Read Twitter User List"
   ]
  },
  {
   "cell_type": "code",
   "execution_count": 5,
   "id": "c260a4f8-d0f6-48d4-9117-26ccba9eca4e",
   "metadata": {
    "tags": []
   },
   "outputs": [],
   "source": [
    "def read_twitter_user_url_list():\n",
    "    with open(TWITTER_USER_LIST_FILE, \"r\", encoding=\"utf-8\") as file:\n",
    "        lines = file.readlines()\n",
    "    \n",
    "    url_list = []\n",
    "    for line in lines:\n",
    "        info = line.strip().split(',')\n",
    "        twitter_id = info[0].strip()\n",
    "        url = f\"{RSS_BASE_URL}/twitter/user/{twitter_id}\"\n",
    "        url_list.append(url)\n",
    "    \n",
    "    print(f\"interested users: {len(responses)}\\n\")\n",
    "\n",
    "    return url_list"
   ]
  },
  {
   "cell_type": "markdown",
   "id": "04c70ecd-e6f8-4722-9eae-d8f1d137ce20",
   "metadata": {},
   "source": [
    "## Helper Function"
   ]
  },
  {
   "cell_type": "markdown",
   "id": "710cb404-2681-4998-a66d-dc3e7b7bc4ac",
   "metadata": {},
   "source": [
    "### Cutoff Time Helper Function"
   ]
  },
  {
   "cell_type": "code",
   "execution_count": 6,
   "id": "e4aabe42-af9f-4a7d-a371-b0df6ecf3e5c",
   "metadata": {
    "tags": []
   },
   "outputs": [],
   "source": [
    "def read_cutoff_time():\n",
    "    \"\"\"\n",
    "    record the newest time at the bottom\n",
    "    return: datetime object\n",
    "    \"\"\"\n",
    "    try:\n",
    "        with open(CUTOFF_TIME_FILE, \"r\") as f:\n",
    "            lines = f.readlines()\n",
    "    except FileNotFoundError:\n",
    "        return use_yesterday_as_cutoff()\n",
    "        \n",
    "    if len(lines) == 0:\n",
    "        return use_yesterday_as_cutoff()\n",
    "    \n",
    "    # in case you opened this file and hit some enters\n",
    "    stripped_lines = [line for line in lines if len(line.strip()) > 0]\n",
    "    if len(stripped_lines) == 0:\n",
    "        return use_yesterday_as_cutoff()\n",
    "        \n",
    "    cutoff_time = stripped_lines[-1]\n",
    "    \n",
    "    # print(f\"read, cutoff time is {cutoff_time}\")\n",
    "    \n",
    "    try:\n",
    "        # must use the format we defined, strictly\n",
    "        time_converted = parser.parse(cutoff_time)\n",
    "    except:\n",
    "        raise\n",
    "    \n",
    "    # print(f\"read, time converted is {time_converted}\")\n",
    "    \n",
    "    return time_converted\n",
    "\n",
    "def use_yesterday_as_cutoff():\n",
    "    \"\"\"\n",
    "    第一次运行，获取一天前或一小时前的内容，等等，可自定义\n",
    "    Take care of timezone for international twitter users\n",
    "    \"\"\"\n",
    "    local_tz = tz.tzlocal()\n",
    "    now = datetime.now(local_tz)\n",
    "    # fetch contents from 1 hour ago\n",
    "    # or 1 day ago, etc\n",
    "    one_day_ago = now - timedelta(hours=1)\n",
    "    write_cutoff_time(one_day_ago)\n",
    "    return one_day_ago\n",
    "\n",
    "def write_cutoff_time(cutoff_time):\n",
    "    \"\"\"\n",
    "    time: str or datetime object\n",
    "    return: None\n",
    "            time_str write to file\n",
    "    \"\"\"\n",
    "    if isinstance(cutoff_time, str):\n",
    "        # test if format is correct\n",
    "        try:\n",
    "            # if is str and with correct format\n",
    "            # print(f\"cutoff time in write, is str, is {cutoff_time}\")\n",
    "            time_converted = parser.parse(cutoff_time)\n",
    "        except:\n",
    "            raise\n",
    "        \n",
    "        time_str = cutoff_time\n",
    "        \n",
    "    elif isinstance(cutoff_time, datetime):\n",
    "        # must be timezone aware\n",
    "        # already checked this, able to print out timezone, if input has tz\n",
    "        TIME_RECORD_FORMAT=\"%Y-%m-%d %H:%M:%S %Z\"\n",
    "        time_str = cutoff_time.strftime(TIME_RECORD_FORMAT)\n",
    "    else:\n",
    "        raise(\"not str or datetime.datetime\")\n",
    "    \n",
    "    # print(f\"writing, time str is {time_str}\")\n",
    "    \n",
    "    # overwrite everything in the file\n",
    "    with open(CUTOFF_TIME_FILE, \"w\") as f:\n",
    "        f.write(time_str)\n"
   ]
  },
  {
   "cell_type": "markdown",
   "id": "843740d1-c34f-4e2f-bd2a-9fd46227939e",
   "metadata": {},
   "source": [
    "### Time Format Helper Function"
   ]
  },
  {
   "cell_type": "code",
   "execution_count": 7,
   "id": "9cfb64ab-9461-4cbf-ac91-b7a4da925dab",
   "metadata": {
    "tags": []
   },
   "outputs": [],
   "source": [
    "def twitter_rss_time_converter(datetime_string:str) -> datetime:\n",
    "    aware_datetime = parser.parse(datetime_string)\n",
    "    return aware_datetime"
   ]
  },
  {
   "cell_type": "markdown",
   "id": "d1f87441-e373-46a3-9aaf-06214455eb90",
   "metadata": {},
   "source": [
    "### Filter Function"
   ]
  },
  {
   "cell_type": "code",
   "execution_count": 8,
   "id": "632d8a8c-06ed-488a-afd2-aa29aedbf3a8",
   "metadata": {
    "tags": []
   },
   "outputs": [],
   "source": [
    "def filter_sort_twitter_entries(entries):\n",
    "    cutoff_time = read_cutoff_time()\n",
    "\n",
    "    # filtered_entries = list(filter(lambda x: twitter_rss_time_converter(x['published']) > cutoff_time, entries))\n",
    "    # or simpler\n",
    "    \n",
    "    filtered_entries = [x for x in entries if twitter_rss_time_converter(x['published']) > cutoff_time]\n",
    "    \n",
    "    print(f\"Cutoff Time: {cutoff_time}\\n\")\n",
    "    # print([x.published for x in filtered_entries])\n",
    "    if len(filtered_entries) > 0:\n",
    "        print(f\"After Filter, {len(filtered_entries)} items will be sent to bot.\\n\")\n",
    "    \n",
    "    sorted_results = sorted(filtered_entries, key=lambda x: twitter_rss_time_converter(x['published']), reverse=True)\n",
    "    return sorted_results\n"
   ]
  },
  {
   "cell_type": "markdown",
   "id": "03592da4-4679-42d7-aa76-c4fb809f03d7",
   "metadata": {},
   "source": [
    "### Logging"
   ]
  },
  {
   "cell_type": "code",
   "execution_count": 9,
   "id": "7ce844df-1c72-45a0-ad10-5f03ce40cc1d",
   "metadata": {},
   "outputs": [],
   "source": [
    "def log_time():\n",
    "    \"\"\"\n",
    "    todo, might log more info\n",
    "    \"\"\"\n",
    "    with open(LOG_FILE, \"a\") as f:\n",
    "        f.write(f\"now is {datetime.now()}; newest cutoff time is {newest_time_str}\\n\")\n"
   ]
  },
  {
   "cell_type": "markdown",
   "id": "03c9826d-179e-4e10-9037-ddeddfb325cb",
   "metadata": {},
   "source": [
    "## Async Fetching URLs"
   ]
  },
  {
   "cell_type": "markdown",
   "id": "7405810b-948c-4cfd-9530-0b45d1539639",
   "metadata": {},
   "source": [
    "### Async Fetch"
   ]
  },
  {
   "cell_type": "code",
   "execution_count": 10,
   "id": "9ce46e92-ba1c-4761-a091-4727e8d9c00d",
   "metadata": {
    "tags": []
   },
   "outputs": [
    {
     "name": "stdout",
     "output_type": "stream",
     "text": [
      "IPython autoawait is `on`, and set to use `asyncio`\n"
     ]
    }
   ],
   "source": [
    "# with this, able to run event loop in Jupyter\n",
    "%autoawait\n",
    "\n",
    "async def fetch(session, url):\n",
    "    async with session.get(url) as response:\n",
    "        return await response.text()\n",
    "\n",
    "async def fetch_all(urls):\n",
    "    async with aiohttp.ClientSession() as session:\n",
    "        tasks = []\n",
    "        for url in urls:\n",
    "            task = asyncio.ensure_future(fetch(session, url))\n",
    "            tasks.append(task)\n",
    "        responses = await asyncio.gather(*tasks)\n",
    "        return responses\n",
    "    \n",
    "async def fetch_twitter_entries():\n",
    "    # print(f\"async, start fetching\\n\")\n",
    "    urls = read_twitter_user_url_list()\n",
    "    \n",
    "    print(f\"Fetching ...\\n\")\n",
    "\n",
    "    responses = await fetch_all(urls)\n",
    "    # print(f\"After Async Running, Fetched Users: {len(responses)}\\n\")\n",
    "    # print(f\"Fetched Users: {len(responses)}\\n\")\n",
    "\n",
    "    entries = []\n",
    "    for i, response in enumerate(responses):\n",
    "        feed = feedparser.parse(response)\n",
    "        entries += feed.entries\n",
    "    \n",
    "    return entries\n",
    "\n"
   ]
  },
  {
   "cell_type": "markdown",
   "id": "ea05c8f4-a146-4ed9-8cd5-04e08f619f57",
   "metadata": {},
   "source": [
    "## Format Telegram Bot Messages"
   ]
  },
  {
   "cell_type": "markdown",
   "id": "db5eb933-7b3a-4af6-8b25-684798741170",
   "metadata": {},
   "source": [
    "### Bot Message Formatting"
   ]
  },
  {
   "cell_type": "code",
   "execution_count": 11,
   "id": "cc7d0dfe-835b-44e9-b95f-f3fa1be2fa15",
   "metadata": {
    "tags": []
   },
   "outputs": [],
   "source": [
    "def bot_message_from_entrie(item):\n",
    "    author = item[\"author\"]\n",
    "    title = item[\"title\"]\n",
    "    link = item[\"link\"]\n",
    "    pub_date_parsed = parser.parse(item[\"published\"])\n",
    "    description = parse_html_from_rss(item[\"description\"])\n",
    "\n",
    "    message = (\n",
    "        f\"{author}  {pub_date_parsed}\\n\"\n",
    "        f\"{description}\\n\"  \n",
    "        f\"{link}\"\n",
    "    )\n",
    "    \n",
    "    return message\n",
    "\n",
    "def parse_html_from_rss(description_html):\n",
    "    soup = BeautifulSoup(description_html, 'html.parser')\n",
    "    # Convert div with class rsshub-quote\n",
    "    rsshub_quotes = soup.find_all('div', class_='rsshub-quote')\n",
    "    for rsshub_quote in rsshub_quotes:\n",
    "        rsshub_quote.string = f\"\\n&gt; {rsshub_quote.get_text(separator=' ', strip=True)}\\n\\n\"\n",
    "\n",
    "    for br in soup.find_all('br'):\n",
    "        br.replace_with('\\n')\n",
    "\n",
    "    description = \"\\n\".join(soup.stripped_strings)\n",
    "    \n",
    "    return description\n"
   ]
  },
  {
   "cell_type": "markdown",
   "id": "c8643f16-c753-47d8-b4c4-ff9ac7c0785c",
   "metadata": {},
   "source": [
    "## Filter Content and Send Messages"
   ]
  },
  {
   "cell_type": "markdown",
   "id": "c7bc8ffc-4cb3-4261-acf1-9c60ae1f686f",
   "metadata": {},
   "source": [
    "### Filter Twitter Entries"
   ]
  },
  {
   "cell_type": "code",
   "execution_count": 12,
   "id": "7cbb5b8a-4f27-4569-a07f-c47a28ae55f5",
   "metadata": {
    "tags": []
   },
   "outputs": [],
   "source": [
    "async def telegram_message_list_to_send():\n",
    "    \n",
    "    # todo, maybe log twitter account as well\n",
    "    log_time()\n",
    "    \n",
    "    entries = await fetch_twitter_entries()\n",
    "    print(f\"Fetched twitter: {len(entries)}\\n\")\n",
    "                               \n",
    "    filtered_entries = filter_sort_twitter_entries(entries)\n",
    "    \n",
    "    if len(filtered_entries) > 0:\n",
    "        global newest_time_str\n",
    "        newest_time_str = filtered_entries[0]['published']\n",
    "        message_list = [bot_message_from_entrie(x) for x in filtered_entries]\n",
    "        return message_list\n",
    "    else:\n",
    "        # print(f\"no new twitter entry\")\n",
    "        return []\n"
   ]
  },
  {
   "cell_type": "markdown",
   "id": "e7bda862-9b93-40b4-8351-506b40381586",
   "metadata": {},
   "source": [
    "### Send Bot Message"
   ]
  },
  {
   "cell_type": "code",
   "execution_count": 13,
   "id": "32e8f495-562d-4d0e-9b73-d3e335f69098",
   "metadata": {
    "tags": []
   },
   "outputs": [],
   "source": [
    "async def send_to_telegram_bot():\n",
    "    bot = Bot(\n",
    "        token=TOKEN,\n",
    "        base_url=TELEGRAM_API_BASE_URL,\n",
    "    )\n",
    "    \n",
    "    ml = await telegram_message_list_to_send()\n",
    "    \n",
    "    sleep_time_msg = f\"Now sleep time, next run will be after {wait_interval} seconds.\\n\"\n",
    "    \n",
    "    if len(ml) == 0:\n",
    "        # nothing to do\n",
    "        print(f\"No Messages to Send.\\n\")\n",
    "        print(sleep_time_msg)\n",
    "        return\n",
    "    \n",
    "    print(f\"Sending Telegram Bot Messages\\n\")\n",
    "    \n",
    "    # todo, record to log file and later send to AI\n",
    "\n",
    "    global newest_time_str\n",
    "    \n",
    "    try:\n",
    "        for message in ml:\n",
    "            bot.send_message(\n",
    "                chat_id=target_chat_id, \n",
    "                text=message,\n",
    "                timeout=10,\n",
    "            )  \n",
    "    \n",
    "        # update cutoff time\n",
    "        write_cutoff_time(newest_time_str)\n",
    "        print(f\"Cutoff time updated to: {newest_time_str}\\n\")\n",
    "        print(sleep_time_msg)\n",
    "\n",
    "    except:\n",
    "        raise\n",
    "    \n"
   ]
  },
  {
   "cell_type": "markdown",
   "id": "d35e539b-490a-4eb3-83c8-f205380a6029",
   "metadata": {},
   "source": [
    "## Task Management"
   ]
  },
  {
   "cell_type": "markdown",
   "id": "2b435f83-7b53-4439-bb02-a1a526acef92",
   "metadata": {},
   "source": [
    "### Start Task"
   ]
  },
  {
   "cell_type": "code",
   "execution_count": 14,
   "id": "bf780865-6fa7-4216-ab55-9a8746a91f9e",
   "metadata": {
    "tags": []
   },
   "outputs": [],
   "source": [
    "# Here in Jupyter-lab, do not use asyncio.run\n",
    "# this will have conflict with Jupyter\n",
    "# use %autoawait is the solution\n",
    "\n",
    "cancel_event = asyncio.Event()\n",
    "\n",
    "async def main(cancel_event):    \n",
    "    try:\n",
    "        while not cancel_event.is_set():\n",
    "            await send_to_telegram_bot()\n",
    "            await asyncio.sleep(wait_interval)\n",
    "    except asyncio.CancelledError:\n",
    "        print(\"Coroutine cancelled.\")\n",
    "    finally:\n",
    "        print(\"Coroutine stopped. 程序已结束.\")\n"
   ]
  },
  {
   "cell_type": "markdown",
   "id": "ff625652-e2a2-420a-9803-b1a95491e94a",
   "metadata": {},
   "source": [
    "### Cancel Task"
   ]
  },
  {
   "cell_type": "markdown",
   "id": "7429e592-fd38-4c34-814f-8f0fab737f7d",
   "metadata": {},
   "source": [
    "- 在下面出现的输入框中敲击回车，即可停止程序运行\n",
    "- 或者在输入框中输入任何字符后回车，也可停止"
   ]
  },
  {
   "cell_type": "code",
   "execution_count": 15,
   "id": "477ed0ac-7c86-4d3f-ac87-15252b59dcd4",
   "metadata": {
    "tags": []
   },
   "outputs": [
    {
     "name": "stdout",
     "output_type": "stream",
     "text": [
      "Fetching Content ...\n",
      "\n",
      "Fetched Users: 111\n",
      "\n",
      "Fetched Entries: 1980\n",
      "\n",
      "Cutoff Time: 2023-04-18 11:04:09+00:00\n",
      "\n",
      "After Filter, 417 items will be sent to bot.\n",
      "\n",
      "Sending Telegram Bot Messages\n",
      "\n",
      "Cutoff time updated to: Wed, 19 Apr 2023 06:23:25 GMT\n",
      "\n",
      "Now sleep time, next run will be after 3600 seconds.\n",
      "\n"
     ]
    },
    {
     "name": "stdin",
     "output_type": "stream",
     "text": [
      " \n"
     ]
    },
    {
     "name": "stdout",
     "output_type": "stream",
     "text": [
      "Coroutine cancelled.\n",
      "Coroutine stopped. 程序已结束.\n"
     ]
    }
   ],
   "source": [
    "async def cancel_on_keypress(task):\n",
    "    # print(\"Press Enter to cancel the task.\")\n",
    "    await asyncio.to_thread(input)\n",
    "    task.cancel()\n",
    "\n",
    "task = asyncio.create_task(main(cancel_event))\n",
    "cancel_task = asyncio.create_task(cancel_on_keypress(task))\n",
    "\n",
    "try:\n",
    "    await asyncio.gather(task, cancel_task, return_exceptions=True)\n",
    "except asyncio.CancelledError:\n",
    "    pass"
   ]
  }
 ],
 "metadata": {
  "kernelspec": {
   "display_name": "Python 3 (ipykernel)",
   "language": "python",
   "name": "python3"
  },
  "language_info": {
   "codemirror_mode": {
    "name": "ipython",
    "version": 3
   },
   "file_extension": ".py",
   "mimetype": "text/x-python",
   "name": "python",
   "nbconvert_exporter": "python",
   "pygments_lexer": "ipython3",
   "version": "3.11.3"
  },
  "toc-autonumbering": true,
  "toc-showmarkdowntxt": false
 },
 "nbformat": 4,
 "nbformat_minor": 5
}
